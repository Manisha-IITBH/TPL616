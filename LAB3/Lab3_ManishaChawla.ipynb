{
  "nbformat": 4,
  "nbformat_minor": 0,
  "metadata": {
    "colab": {
      "provenance": []
    },
    "kernelspec": {
      "name": "python3",
      "display_name": "Python 3"
    },
    "language_info": {
      "name": "python"
    }
  },
  "cells": [
    {
      "cell_type": "markdown",
      "source": [
        "Problems Set-1:\n",
        "\n",
        "A list baseball has already been defined in the below, representing the height of some baseball players in centimetres. Prepare this as a numpy array.\n",
        "baseball= [180,215,210,210,188,176,209,200]"
      ],
      "metadata": {
        "id": "l23HgH4Q_ltt"
      }
    },
    {
      "cell_type": "code",
      "source": [
        "baseball= [180,215,210,210,188,176,209,200]"
      ],
      "metadata": {
        "id": "ePskph0p_qPQ"
      },
      "execution_count": 1,
      "outputs": []
    },
    {
      "cell_type": "code",
      "source": [
        "import numpy as np"
      ],
      "metadata": {
        "id": "umxTqqAa_wdl"
      },
      "execution_count": 2,
      "outputs": []
    },
    {
      "cell_type": "code",
      "source": [
        "np.array(baseball)"
      ],
      "metadata": {
        "colab": {
          "base_uri": "https://localhost:8080/"
        },
        "id": "x0lBSBdR_y1d",
        "outputId": "dc335da7-ee86-46ec-cf0e-a9edc57135dd"
      },
      "execution_count": 3,
      "outputs": [
        {
          "output_type": "execute_result",
          "data": {
            "text/plain": [
              "array([180, 215, 210, 210, 188, 176, 209, 200])"
            ]
          },
          "metadata": {},
          "execution_count": 3
        }
      ]
    },
    {
      "cell_type": "markdown",
      "source": [
        "2. Name this new array np_height_in.\n",
        "\n",
        "    a. Print np_height_in.\n",
        "\n",
        "    b. Multiply np_height_in with 0.0254 to convert all height measurements from inches to metres. Store the new values in a new array, np_height_m.\n",
        "\n",
        "    c. Print out np_height_m and check if the output makes sense."
      ],
      "metadata": {
        "id": "ULL57PYNACTW"
      }
    },
    {
      "cell_type": "code",
      "source": [
        "#a\n",
        "np_height_in = np.array(baseball)\n",
        "print(np_height_in)"
      ],
      "metadata": {
        "colab": {
          "base_uri": "https://localhost:8080/"
        },
        "id": "2Egi13rR_1dh",
        "outputId": "bc5e97fe-13d6-4cb8-fb21-a779d0e38f97"
      },
      "execution_count": 4,
      "outputs": [
        {
          "output_type": "stream",
          "name": "stdout",
          "text": [
            "[180 215 210 210 188 176 209 200]\n"
          ]
        }
      ]
    },
    {
      "cell_type": "code",
      "source": [
        "#b\n",
        "np_height_m = 0.0254 * np_height_in\n",
        "print(np_height_m)"
      ],
      "metadata": {
        "colab": {
          "base_uri": "https://localhost:8080/"
        },
        "id": "4Gn-StKsAN7e",
        "outputId": "1c99502d-2c1a-4ec9-d268-19d6b212c35f"
      },
      "execution_count": 5,
      "outputs": [
        {
          "output_type": "stream",
          "name": "stdout",
          "text": [
            "[4.572  5.461  5.334  5.334  4.7752 4.4704 5.3086 5.08  ]\n"
          ]
        }
      ]
    },
    {
      "cell_type": "markdown",
      "source": [
        "3. A list weight_lb has already been defined in the Python script below, representing the weight of some baseball players in pounds\n",
        "\n",
        "    Weight_lb=[172,190,165,175,166,159,182,168]\n",
        "\n",
        "  Create a numpy array from the weight_lb list with the correct units. Multiply by 0.453592 to go from pounds to kilograms. Store the resulting numpy array as np_weight_kg.\n",
        "\n",
        "      a. Use np_height_m (given in Q#2) and np_weight_kg to calculate the BMI of each player. Use the following equation:BMI=weight (kg) / height (m)^2\n",
        "\n",
        "\n",
        "      b. Save the resulting numpy array as bmi.\n",
        "\n",
        "      c. Print out bmi."
      ],
      "metadata": {
        "id": "byimuLIgAmMc"
      }
    },
    {
      "cell_type": "code",
      "source": [
        "Weight_lb=[172,190,165,175,166,159,182,168]"
      ],
      "metadata": {
        "id": "XHhawsyzAYuu"
      },
      "execution_count": 6,
      "outputs": []
    },
    {
      "cell_type": "code",
      "source": [
        "np_weight_kg = np.array(Weight_lb) * 0.453592"
      ],
      "metadata": {
        "id": "xfNFplN4Aqm1"
      },
      "execution_count": 7,
      "outputs": []
    },
    {
      "cell_type": "code",
      "source": [
        "#a,b,c\n",
        "bmi = np_weight_kg / np_height_m ** 2\n",
        "print(bmi)"
      ],
      "metadata": {
        "colab": {
          "base_uri": "https://localhost:8080/"
        },
        "id": "Gn7zKfA3A6Km",
        "outputId": "2fa31a71-2c87-404d-8bc2-7bb6e52ef1ae"
      },
      "execution_count": 8,
      "outputs": [
        {
          "output_type": "stream",
          "name": "stdout",
          "text": [
            "[3.73234164 2.88984556 2.6305303  2.78995637 3.30210092 3.60885757\n",
            " 2.92938713 2.95288983]\n"
          ]
        }
      ]
    },
    {
      "cell_type": "markdown",
      "source": [
        "4. Create a boolean numpy array: the element of the array should be True if the corresponding baseball player'sBMI is below 21. You can use the < operator for this. Name the array light.\n",
        "\n",
        "\n",
        "      a. Print the array light.\n",
        "\n",
        "      b. Print out a numpy array with the BMIs of all baseball players whose BMI is below 21.Use light inside square brackets to do a selection on the bmi array.e.g [light < 20]"
      ],
      "metadata": {
        "id": "Eq_WuofQBLAp"
      }
    },
    {
      "cell_type": "code",
      "source": [
        "#a\n",
        "light = bmi < 21\n",
        "print(light)"
      ],
      "metadata": {
        "colab": {
          "base_uri": "https://localhost:8080/"
        },
        "id": "JrHI_JEmBDKu",
        "outputId": "03a31ad2-fa97-44c3-fb88-2fc48d927210"
      },
      "execution_count": 9,
      "outputs": [
        {
          "output_type": "stream",
          "name": "stdout",
          "text": [
            "[ True  True  True  True  True  True  True  True]\n"
          ]
        }
      ]
    },
    {
      "cell_type": "code",
      "source": [
        "#b\n",
        "print(bmi[light==True])\n"
      ],
      "metadata": {
        "colab": {
          "base_uri": "https://localhost:8080/"
        },
        "id": "IBAKaLqMD7-p",
        "outputId": "b0eaced9-1487-4e1f-ffb9-a52c2d5ef548"
      },
      "execution_count": 10,
      "outputs": [
        {
          "output_type": "stream",
          "name": "stdout",
          "text": [
            "[3.73234164 2.88984556 2.6305303  2.78995637 3.30210092 3.60885757\n",
            " 2.92938713 2.95288983]\n"
          ]
        }
      ]
    },
    {
      "cell_type": "markdown",
      "source": [
        "5. In this question, baseball is a list of lists. The main list contains 4 elements. Each of these elements is a list containing the height and the weight of 4 baseball players, in this order. baseball is already given here for you\n",
        "baseball=[[180,78.4],[215,102.7],[210,98.5],[188,75.2]]\n",
        "\n",
        "                  a. Use np.array() to create a 2D numpy array from baseball. Name it np_baseball.\n",
        "\n",
        "                  b. Print out the type of np_baseball.\n",
        "\n",
        "                  c. Print out the shape attribute of np_baseball. Use np_baseball.shape"
      ],
      "metadata": {
        "id": "DMilP-JkFC96"
      }
    },
    {
      "cell_type": "code",
      "source": [
        "baseball=[[180,78.4],[215,102.7],[210,98.5],[188,75.2]]"
      ],
      "metadata": {
        "id": "IXOK-9-SE6eA"
      },
      "execution_count": 11,
      "outputs": []
    },
    {
      "cell_type": "code",
      "source": [
        "#a\n",
        "np_baseball = np.array(baseball)"
      ],
      "metadata": {
        "id": "V72X4UtrFT25"
      },
      "execution_count": 12,
      "outputs": []
    },
    {
      "cell_type": "code",
      "source": [
        "#b\n",
        "print(np_baseball)"
      ],
      "metadata": {
        "colab": {
          "base_uri": "https://localhost:8080/"
        },
        "id": "w8krujm8FXJl",
        "outputId": "18ea0806-4e5a-4022-9d68-843db01d5a29"
      },
      "execution_count": 13,
      "outputs": [
        {
          "output_type": "stream",
          "name": "stdout",
          "text": [
            "[[180.   78.4]\n",
            " [215.  102.7]\n",
            " [210.   98.5]\n",
            " [188.   75.2]]\n"
          ]
        }
      ]
    },
    {
      "cell_type": "code",
      "source": [
        "#b\n",
        "np_baseball.dtype"
      ],
      "metadata": {
        "colab": {
          "base_uri": "https://localhost:8080/"
        },
        "id": "dTiK1OjVFYQ1",
        "outputId": "9f14d248-bec5-4efc-cf42-77cd5caee987"
      },
      "execution_count": 14,
      "outputs": [
        {
          "output_type": "execute_result",
          "data": {
            "text/plain": [
              "dtype('float64')"
            ]
          },
          "metadata": {},
          "execution_count": 14
        }
      ]
    },
    {
      "cell_type": "code",
      "source": [
        "#c\n",
        "print(np_baseball.shape)"
      ],
      "metadata": {
        "colab": {
          "base_uri": "https://localhost:8080/"
        },
        "id": "ZJW6IjPJFcXb",
        "outputId": "33a42f97-7052-4672-9002-f79ccfd6e072"
      },
      "execution_count": 15,
      "outputs": [
        {
          "output_type": "stream",
          "name": "stdout",
          "text": [
            "(4, 2)\n"
          ]
        }
      ]
    },
    {
      "cell_type": "markdown",
      "source": [
        "6. You've contacted FIFA for some data and they handed you three lists. The lists are the following:\n",
        "\n",
        "            height = np.round(np.random.normal(1.75, 0.20, 1000), 2)\n",
        "\n",
        "            weight = np.round(np.random.normal(60.32, 15, 1000), 2)\n",
        "\n",
        "            age = np.round(np.random.normal(30, 10, 1000), 0)\n",
        "\n",
        "let’s stack it altogether\n",
        "np_players = np.column_stack((height, weight, age))\n",
        "Each element in the lists corresponds to a player. The first list, height, representing each player's height in metres. The second list, weight, represents each player's weight in kilograms. The third list, age,representing each player's age in years.\n",
        "\n",
        "\n",
        "            a. Create a numpy array np_height that is equal to the first column of np_players.\n",
        "            b. Print out the mean of np_height .\n",
        "            c. Print out the median of np_height"
      ],
      "metadata": {
        "id": "ncHjWSMDFlIL"
      }
    },
    {
      "cell_type": "code",
      "source": [
        "height = np.round(np.random.normal(1.75, 0.20, 1000), 2) # Mean, SD, No. Of samples\n",
        "height.shape"
      ],
      "metadata": {
        "colab": {
          "base_uri": "https://localhost:8080/"
        },
        "id": "RkxHDHCUFfSY",
        "outputId": "5a434eeb-1431-4b9c-a20e-757e68a9ae6b"
      },
      "execution_count": 16,
      "outputs": [
        {
          "output_type": "execute_result",
          "data": {
            "text/plain": [
              "(1000,)"
            ]
          },
          "metadata": {},
          "execution_count": 16
        }
      ]
    },
    {
      "cell_type": "code",
      "source": [
        "weight = np.round(np.random.normal(60.32, 15, 1000), 2)"
      ],
      "metadata": {
        "id": "OQNVG_juGDSD"
      },
      "execution_count": 17,
      "outputs": []
    },
    {
      "cell_type": "code",
      "source": [
        "age = np.round(np.random.normal(30, 10, 1000), 0)"
      ],
      "metadata": {
        "id": "TOZsy70uGFhp"
      },
      "execution_count": 18,
      "outputs": []
    },
    {
      "cell_type": "code",
      "source": [
        "np_players = np.column_stack((height, weight, age))"
      ],
      "metadata": {
        "id": "4GjZSPnsF3lj"
      },
      "execution_count": 19,
      "outputs": []
    },
    {
      "cell_type": "code",
      "source": [
        "np_players.shape\n"
      ],
      "metadata": {
        "colab": {
          "base_uri": "https://localhost:8080/"
        },
        "id": "q5adlLG5F9GK",
        "outputId": "8d18f35e-d159-4611-bd48-1b677a7d9ad3"
      },
      "execution_count": 20,
      "outputs": [
        {
          "output_type": "execute_result",
          "data": {
            "text/plain": [
              "(1000, 3)"
            ]
          },
          "metadata": {},
          "execution_count": 20
        }
      ]
    },
    {
      "cell_type": "code",
      "source": [
        "#a\n",
        "np_height = np_players[:,0]\n",
        "#np_height"
      ],
      "metadata": {
        "id": "gTogWy11IYGM"
      },
      "execution_count": 21,
      "outputs": []
    },
    {
      "cell_type": "code",
      "source": [
        "#b\n",
        "print(np_height.mean())"
      ],
      "metadata": {
        "colab": {
          "base_uri": "https://localhost:8080/"
        },
        "id": "cYzDdaCzIpEk",
        "outputId": "f7ae3cb4-f2aa-4382-82e4-c5d98c0df701"
      },
      "execution_count": 22,
      "outputs": [
        {
          "output_type": "stream",
          "name": "stdout",
          "text": [
            "1.76022\n"
          ]
        }
      ]
    },
    {
      "cell_type": "code",
      "source": [
        "np.mean(np_height)"
      ],
      "metadata": {
        "colab": {
          "base_uri": "https://localhost:8080/"
        },
        "id": "-yx-F6IjJVKK",
        "outputId": "015d7c41-3612-437a-ae9a-14f8f4cf7a88"
      },
      "execution_count": 23,
      "outputs": [
        {
          "output_type": "execute_result",
          "data": {
            "text/plain": [
              "np.float64(1.76022)"
            ]
          },
          "metadata": {},
          "execution_count": 23
        }
      ]
    },
    {
      "cell_type": "code",
      "source": [
        "#c\n",
        "print(np.median(np_height))"
      ],
      "metadata": {
        "colab": {
          "base_uri": "https://localhost:8080/"
        },
        "id": "pyIfeRFGIy90",
        "outputId": "ca338353-f0ea-4d0c-dbaf-76ea5ac192c2"
      },
      "execution_count": 24,
      "outputs": [
        {
          "output_type": "stream",
          "name": "stdout",
          "text": [
            "1.76\n"
          ]
        }
      ]
    },
    {
      "cell_type": "markdown",
      "source": [
        "Problems Set-2:\n",
        "\n",
        "Generate 2D NumPy random array representing sales data (units sold) of 6 products over 8 weeks. Compute the following.\n",
        "\n",
        "a. Weekly Total Sales: Compute the total sales for each week (column-wise sum).\n",
        "\n",
        "b. Best-Selling Product: Find the product (row index) that sold the most units in total.\n",
        "\n",
        "c. Top 2 Weeks for Each Product: For each product (row), extract the indices of the two highest-selling weeks.\n",
        "\n",
        "d. Products Above Average\n",
        "\n",
        "Compute the overall average sales (scalar). Return a Boolean mask of shape (6, 8) showing where sales exceed this average.\n",
        "\n",
        "You can use the following numpy functions for solving.\n",
        "sum, mean, argmax, argsort."
      ],
      "metadata": {
        "id": "FN-7sfXfJfNn"
      }
    },
    {
      "cell_type": "code",
      "source": [
        "sales_data = np.random.randint(1, 10, size=(6, 8))\n",
        "sales_data"
      ],
      "metadata": {
        "colab": {
          "base_uri": "https://localhost:8080/"
        },
        "id": "fpwsB3n6HU2B",
        "outputId": "aca0bc45-bb55-4d6c-8136-cee3d9494666"
      },
      "execution_count": 25,
      "outputs": [
        {
          "output_type": "execute_result",
          "data": {
            "text/plain": [
              "array([[8, 5, 7, 3, 1, 5, 4, 2],\n",
              "       [1, 2, 6, 8, 8, 2, 7, 5],\n",
              "       [5, 3, 9, 3, 7, 7, 8, 6],\n",
              "       [4, 7, 2, 7, 6, 8, 5, 9],\n",
              "       [7, 2, 1, 8, 8, 5, 5, 2],\n",
              "       [1, 4, 8, 9, 3, 7, 1, 9]])"
            ]
          },
          "metadata": {},
          "execution_count": 25
        }
      ]
    },
    {
      "cell_type": "code",
      "source": [
        "#a\n",
        "weekly_total_sales = np.sum(sales_data, axis=0)\n",
        "weekly_total_sales"
      ],
      "metadata": {
        "colab": {
          "base_uri": "https://localhost:8080/"
        },
        "id": "l_GJ-rCLKkem",
        "outputId": "b270b4f9-c2c4-4c19-8367-f5b0b32dc173"
      },
      "execution_count": 26,
      "outputs": [
        {
          "output_type": "execute_result",
          "data": {
            "text/plain": [
              "array([26, 23, 33, 38, 33, 34, 30, 33])"
            ]
          },
          "metadata": {},
          "execution_count": 26
        }
      ]
    },
    {
      "cell_type": "code",
      "source": [
        "np.sum(sales_data, axis=1)"
      ],
      "metadata": {
        "colab": {
          "base_uri": "https://localhost:8080/"
        },
        "id": "5A7NIflULwoO",
        "outputId": "0b1733c2-7a2b-4f8a-8812-9b07ab09e683"
      },
      "execution_count": 27,
      "outputs": [
        {
          "output_type": "execute_result",
          "data": {
            "text/plain": [
              "array([35, 39, 48, 48, 38, 42])"
            ]
          },
          "metadata": {},
          "execution_count": 27
        }
      ]
    },
    {
      "cell_type": "code",
      "source": [
        "#b\n",
        "best_selling_product = np.argmax(np.sum(sales_data, axis=1))\n",
        "print(best_selling_product)"
      ],
      "metadata": {
        "colab": {
          "base_uri": "https://localhost:8080/"
        },
        "id": "JIZmrXIkK_v5",
        "outputId": "7def0296-85b7-4c35-b9a8-9e8eb3be4dbc"
      },
      "execution_count": 28,
      "outputs": [
        {
          "output_type": "stream",
          "name": "stdout",
          "text": [
            "2\n"
          ]
        }
      ]
    },
    {
      "cell_type": "code",
      "source": [
        "#c\n",
        "top2weeks = np.argsort(sales_data, axis=1) #\n",
        "top2weeks"
      ],
      "metadata": {
        "colab": {
          "base_uri": "https://localhost:8080/"
        },
        "id": "HKqLBSYsMwyE",
        "outputId": "257ddc60-d0a8-45a5-f78c-d547007cd40a"
      },
      "execution_count": 29,
      "outputs": [
        {
          "output_type": "execute_result",
          "data": {
            "text/plain": [
              "array([[4, 7, 3, 6, 1, 5, 2, 0],\n",
              "       [0, 1, 5, 7, 2, 6, 3, 4],\n",
              "       [1, 3, 0, 7, 5, 4, 6, 2],\n",
              "       [2, 0, 6, 4, 3, 1, 5, 7],\n",
              "       [2, 1, 7, 5, 6, 0, 3, 4],\n",
              "       [0, 6, 4, 1, 5, 2, 3, 7]])"
            ]
          },
          "metadata": {},
          "execution_count": 29
        }
      ]
    },
    {
      "cell_type": "code",
      "source": [
        "top2weeks = np.argsort(sales_data, axis=1)[:, -2:]\n",
        "print(top2weeks)\n"
      ],
      "metadata": {
        "colab": {
          "base_uri": "https://localhost:8080/"
        },
        "id": "PYAygIddLqCl",
        "outputId": "eb3bf6cd-1c00-4706-a32d-7be724c7ca40"
      },
      "execution_count": 30,
      "outputs": [
        {
          "output_type": "stream",
          "name": "stdout",
          "text": [
            "[[2 0]\n",
            " [3 4]\n",
            " [6 2]\n",
            " [5 7]\n",
            " [3 4]\n",
            " [3 7]]\n"
          ]
        }
      ]
    },
    {
      "cell_type": "code",
      "source": [
        "#d\n",
        "overall_avg_sell = np.mean(sales_data)\n",
        "overall_avg_sell"
      ],
      "metadata": {
        "colab": {
          "base_uri": "https://localhost:8080/"
        },
        "id": "tLbyWAHJMoOe",
        "outputId": "1ad0a9d2-e6e5-4540-f4be-a3cb795d3a5b"
      },
      "execution_count": 31,
      "outputs": [
        {
          "output_type": "execute_result",
          "data": {
            "text/plain": [
              "np.float64(5.208333333333333)"
            ]
          },
          "metadata": {},
          "execution_count": 31
        }
      ]
    },
    {
      "cell_type": "code",
      "source": [
        "#d\n",
        "mask = sales_data > overall_avg_sell\n",
        "mask"
      ],
      "metadata": {
        "colab": {
          "base_uri": "https://localhost:8080/"
        },
        "id": "XMmVlU-VOWuS",
        "outputId": "c865ef2c-aa40-4717-e833-064d610e1d57"
      },
      "execution_count": 32,
      "outputs": [
        {
          "output_type": "execute_result",
          "data": {
            "text/plain": [
              "array([[ True, False,  True, False, False, False, False, False],\n",
              "       [False, False,  True,  True,  True, False,  True, False],\n",
              "       [False, False,  True, False,  True,  True,  True,  True],\n",
              "       [False,  True, False,  True,  True,  True, False,  True],\n",
              "       [ True, False, False,  True,  True, False, False, False],\n",
              "       [False, False,  True,  True, False,  True, False,  True]])"
            ]
          },
          "metadata": {},
          "execution_count": 32
        }
      ]
    },
    {
      "cell_type": "code",
      "source": [],
      "metadata": {
        "id": "qOeJulmWOfFB"
      },
      "execution_count": 32,
      "outputs": []
    }
  ]
}