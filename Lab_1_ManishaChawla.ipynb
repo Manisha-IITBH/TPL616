{
  "nbformat": 4,
  "nbformat_minor": 0,
  "metadata": {
    "colab": {
      "provenance": []
    },
    "kernelspec": {
      "name": "python3",
      "display_name": "Python 3"
    },
    "language_info": {
      "name": "python"
    }
  },
  "cells": [
    {
      "cell_type": "markdown",
      "source": [
        "\n",
        "# Name: Manisha Chawla\n",
        "# ID: P25CS002\n",
        "# Course: TPL616 Advanced Programming for DSAI\n",
        "# Lab: 1 Practice Problems"
      ],
      "metadata": {
        "id": "7i1rzHNnt_Lq"
      }
    },
    {
      "cell_type": "markdown",
      "source": [
        "Reference: [Official Python documentation](https://docs.python.org/3/tutorial/index.html)"
      ],
      "metadata": {
        "id": "nwRDm8n3HPQV"
      }
    },
    {
      "cell_type": "markdown",
      "source": [
        "Q.1. Given two Python lists, iterate over both lists simultaneously such that list1 should display\n",
        "items in original order and list2 in reverse order. Once the smaller list exhausts, the other list\n",
        "elements should be printed alone"
      ],
      "metadata": {
        "id": "jqUtS1J2HQOX"
      }
    },
    {
      "cell_type": "code",
      "source": [
        "# Take input from the user using the input function. Each input value should be separated by a space.\n",
        "list1 = input(\"Enter elements of list1: \").split()\n",
        "list2 = input(\"Enter elements of list2: \").split()\n",
        "# Calculate the length of string\n",
        "len1 = len(list1)\n",
        "len2 = len(list2)\n",
        "# Find the maximum length between the two input lists, it gives maximum no. of times loop will run\n",
        "max_len = max(len1, len2)\n",
        "# now run the loop till longest list exhausts\n",
        "for i in range(max_len):\n",
        "    # both lists have elements then print both\n",
        "    if i < len1 and i < len2:\n",
        "        print(list1[i], list2[-(i+1)])\n",
        "    # only list1 has elements left then print that only\n",
        "    elif i < len1:\n",
        "        print(list1[i])\n",
        "    # only list2 has elements left then print that only\n",
        "    elif i < len2:\n",
        "        print(list2[-(i+1)])"
      ],
      "metadata": {
        "colab": {
          "base_uri": "https://localhost:8080/"
        },
        "id": "M_RSHyPmuBzo",
        "outputId": "46eceadc-549d-448d-8c04-44f1e60d7b4b"
      },
      "execution_count": null,
      "outputs": [
        {
          "output_type": "stream",
          "name": "stdout",
          "text": [
            "Enter elements of list1: 10 20 30 40\n",
            "Enter elements of list2: 1 10 100 200 300 400\n",
            "10 400\n",
            "20 300\n",
            "30 200\n",
            "40 100\n",
            "10\n",
            "1\n"
          ]
        }
      ]
    },
    {
      "cell_type": "markdown",
      "source": [
        "Q2. Given a 2D board and a word, find if the word exists in the grid. The word can be present\n",
        "horizontally or vertically."
      ],
      "metadata": {
        "id": "uZDj6ktOwJTQ"
      }
    },
    {
      "cell_type": "code",
      "source": [
        "#give your input 2D Board and word to search for here\n",
        "\n",
        "rows = int(input(\"Enter number of rows- \"))\n",
        "cols = int(input(\"Enter number of columns- \"))\n",
        "#give 2D board entry row wise\n",
        "twoDboard = []\n",
        "for i in range(rows):\n",
        "    row = input(f\"Enter Row No. {i+1}: \")\n",
        "    twoDboard.append(list(row))\n",
        "\n",
        "word = input(\"Enter the word to search in the grid: \")\n",
        "\n",
        "#this function will check if the word exixts (vertically or horizontally) in the 2D board or not\n",
        "def exists():\n",
        "    for i in range(rows): # explore all rows\n",
        "        for j in range(cols): # Explore each column\n",
        "            # Check if the (i,j) entry on the board is matching with first letter of the word. This will be the\n",
        "            if twoDboard[i][j] == word[0]:\n",
        "\n",
        "                # Check for the complete word vertical down\n",
        "                if i + len(word) <= rows:\n",
        "                    match = True\n",
        "                    for x in range(len(word)):\n",
        "                        if twoDboard[i+x][j] != word[x]:\n",
        "                            match = False\n",
        "                            break\n",
        "                    if match:\n",
        "                        return True\n",
        "\n",
        "                # Check for the complete word vertical up\n",
        "                if i - len(word) + 1 >= 0:\n",
        "                    match = True\n",
        "                    for x in range(len(word)):\n",
        "                        if twoDboard[i-x][j] != word[x]:\n",
        "                            match = False\n",
        "                            break\n",
        "                    if match:\n",
        "                        return True\n",
        "\n",
        "                # Check for the complete word horizontal right\n",
        "                if j + len(word) <= cols:\n",
        "                    match = True\n",
        "                    for x in range(len(word)):\n",
        "                        if twoDboard[i][j+x] != word[x]:\n",
        "                            match = False\n",
        "                            break\n",
        "                    if match:\n",
        "                        return True\n",
        "\n",
        "                # Check for the complete word horizontal left\n",
        "                if j - len(word) + 1 >= 0:\n",
        "                    match = True\n",
        "                    for x in range(len(word)):\n",
        "                        if twoDboard[i][j-x] != word[x]:\n",
        "                            match = False\n",
        "                            break\n",
        "                    if match:\n",
        "                        return True\n",
        "\n",
        "    return False\n",
        "\n",
        "print(exists())  # This will print the output\n"
      ],
      "metadata": {
        "colab": {
          "base_uri": "https://localhost:8080/"
        },
        "id": "67vB5o6Q_APl",
        "outputId": "5434c92e-4caf-424b-c28d-d5eabdcf84b7"
      },
      "execution_count": 2,
      "outputs": [
        {
          "output_type": "stream",
          "name": "stdout",
          "text": [
            "Enter number of rows- 3\n",
            "Enter number of columns- 4\n",
            "Enter Row No. 1: ABCE\n",
            "Enter Row No. 2: SFCS\n",
            "Enter Row No. 3: ADEE\n",
            "Enter the word to search in the grid: FD\n",
            "True\n"
          ]
        }
      ]
    },
    {
      "cell_type": "markdown",
      "source": [
        "Q3.\n",
        "You are given an n x n 2D matrix representing an image. Rotate the image by 90 degrees\n",
        "(clockwise) in-place."
      ],
      "metadata": {
        "id": "i3ZgsALgwNln"
      }
    },
    {
      "cell_type": "code",
      "source": [
        "#give your input 2D matrix of nXn\n",
        "n = int(input(\"Enter value of n for nXn matrix of an image- \"))\n",
        "#give input row wise\n",
        "matrix = []\n",
        "for i in range(n):\n",
        "    #row = input(f\"Enter Row No. {i+1}: \") # it was taking each element as charater\n",
        "    row = list(map(int, input(f\"Enter Row No. {i+1}: \").split())) #this will covert each character to integer\n",
        "    matrix.append(list(row))\n",
        "# Transpose of the matrix\n",
        "for i in range(n):\n",
        "    for j in range(i + 1, n):\n",
        "        temp = matrix[i][j]\n",
        "        matrix[i][j] = matrix[j][i]\n",
        "        matrix[j][i] = temp\n",
        "#print(matrix)\n",
        "# Reverse each row to get the 90 degree rotation\n",
        "for row in matrix:\n",
        "    row.reverse()\n",
        "#print the output\n",
        "print(matrix)"
      ],
      "metadata": {
        "colab": {
          "base_uri": "https://localhost:8080/"
        },
        "id": "9qyMLVQa50sw",
        "outputId": "c0b7e920-093f-4f8a-9134-5f42c680d862"
      },
      "execution_count": 4,
      "outputs": [
        {
          "output_type": "stream",
          "name": "stdout",
          "text": [
            "Enter value of n for nXn matrix of an image- 3\n",
            "Enter Row No. 1: 1 2 3\n",
            "Enter Row No. 2: 4 5 6\n",
            "Enter Row No. 3: 7 8 9\n",
            "[[7, 4, 1], [8, 5, 2], [9, 6, 3]]\n"
          ]
        }
      ]
    },
    {
      "cell_type": "markdown",
      "source": [
        "Q4. Write a function to determine if a 9x9 Sudoku board is valid. Only the filled cells need to be\n",
        "validated according to Sudoku rules."
      ],
      "metadata": {
        "id": "BYyDaU4bwWp2"
      }
    },
    {
      "cell_type": "code",
      "source": [
        "'''\n",
        "#give your input 9X9 Board directly form here\n",
        "board=[\n",
        "[\"5\",\"3\",\".\",\".\",\"7\",\".\",\".\",\".\",\".\"],\n",
        "[\"6\",\".\",\".\",\"1\",\"9\",\"5\",\".\",\".\",\".\"],\n",
        "[\".\",\"9\",\"8\",\".\",\".\",\".\",\".\",\"6\",\".\"],\n",
        "[\"8\",\".\",\".\",\".\",\"6\",\".\",\".\",\".\",\"3\"],\n",
        "[\"4\",\".\",\".\",\"8\",\".\",\"3\",\".\",\".\",\"1\"],\n",
        "[\"7\",\".\",\".\",\".\",\"2\",\".\",\".\",\".\",\"6\"],\n",
        "[\".\",\"6\",\".\",\".\",\".\",\".\",\"2\",\"8\",\".\"],\n",
        "[\".\",\".\",\".\",\"4\",\"1\",\"9\",\".\",\".\",\"5\"],\n",
        "[\".\",\".\",\".\",\".\",\"8\",\".\",\".\",\"7\",\"9\"]\n",
        "]\n",
        "'''\n",
        "#or give your input 9X9 Board at runtime\n",
        "board = []\n",
        "for i in range(9):\n",
        "    row = input(f\"Enter Row No. {i+1}: \")\n",
        "    board.append(list(row))\n",
        "\n",
        "def isSudoku(board):\n",
        "    # Check the sudoku properties for rows\n",
        "    for i in range(9):\n",
        "        row_set = []\n",
        "        for j in range(9):\n",
        "            val = board[i][j]\n",
        "            if val != \".\":\n",
        "                if val in row_set: #val is already present in the ith row set then return False\n",
        "                    return False\n",
        "                row_set.append(val)\n",
        "\n",
        "    # Check the sudoku properties for columns\n",
        "    for i in range(9):\n",
        "        col_set = []\n",
        "        for j in range(9):\n",
        "            val = board[j][i]\n",
        "            if val != \".\":\n",
        "                if val in col_set: #val is already present in the ith col set then return False\n",
        "                    return False\n",
        "                col_set.append(val)\n",
        "\n",
        "    # Check the sudoku properties for 3x3 boxes\n",
        "    for i in range(0, 9, 3):\n",
        "        for j in range(0, 9, 3):\n",
        "            box_set = []\n",
        "            for x in range(i, i + 3):\n",
        "                for y in range(j, j + 3):\n",
        "                    val = board[x][y]\n",
        "                    if val != \".\":\n",
        "                        if val in box_set: #val is already present in the 3X3 grid set then return False\n",
        "                            return False\n",
        "                        box_set.append(val)\n",
        "\n",
        "    return True\n",
        "# Print output\n",
        "print(isSudoku(board))"
      ],
      "metadata": {
        "colab": {
          "base_uri": "https://localhost:8080/"
        },
        "id": "haBqvtTkB97k",
        "outputId": "bee7cf89-3a44-446d-ed53-2db961044893"
      },
      "execution_count": 6,
      "outputs": [
        {
          "output_type": "stream",
          "name": "stdout",
          "text": [
            "Enter Row No. 1: 53..7....\n",
            "Enter Row No. 2: 6..195...\n",
            "Enter Row No. 3: .98....6.\n",
            "Enter Row No. 4: 8...6...3\n",
            "Enter Row No. 5: 4..8.3..1\n",
            "Enter Row No. 6: 7...2...6\n",
            "Enter Row No. 7: .6....28.\n",
            "Enter Row No. 8: ...419..5\n",
            "Enter Row No. 9: ....8..79\n",
            "True\n"
          ]
        }
      ]
    }
  ]
}