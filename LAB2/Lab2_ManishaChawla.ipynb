{
  "nbformat": 4,
  "nbformat_minor": 0,
  "metadata": {
    "colab": {
      "provenance": []
    },
    "kernelspec": {
      "name": "python3",
      "display_name": "Python 3"
    },
    "language_info": {
      "name": "python"
    }
  },
  "cells": [
    {
      "cell_type": "markdown",
      "source": [
        "##\n",
        "# Name: Manisha Chawla\n",
        "# ID: P25CS002\n",
        "# Course: TPL616 Advanced Programming for DSAI\n",
        "# Lab: 2 Practice Problems(OOPs)"
      ],
      "metadata": {
        "id": "xjBM5DnDl4Fp"
      }
    },
    {
      "cell_type": "markdown",
      "source": [
        "Reference:\n",
        "\n",
        "\n",
        "\n",
        "*   [Official Python documentation](https://docs.python.org/3/tutorial/index.html)\n",
        "*   [W3School](https://www.w3schools.com/python/)"
      ],
      "metadata": {
        "id": "PensgKNWmVTV"
      }
    },
    {
      "cell_type": "markdown",
      "source": [
        "**Task-0:\n",
        "Execute the example codes discussed in the class to make yourself familiar with the classes and objects.**"
      ],
      "metadata": {
        "id": "_rm-58aVmtIC"
      }
    },
    {
      "cell_type": "markdown",
      "source": [
        "As instructed, it does not need to be submitted in the notebook; it is intended for practice purposes only."
      ],
      "metadata": {
        "id": "xON-GIPkjkcU"
      }
    },
    {
      "cell_type": "markdown",
      "source": [
        "**Task-1:\n",
        "Assume that you are hired as a software developer by an e-commerce company (like Amazon/Flipkart) to design the backend shopping cart system. Customers will browse products, add them to their shopping cart, and place orders. You need to implement the core classes and logic using Object-Oriented Programming principles in Python.**"
      ],
      "metadata": {
        "id": "iDkupGn2mteL"
      }
    },
    {
      "cell_type": "markdown",
      "source": [
        "1. Product Class\n",
        "\n",
        "\n",
        "Attributes:\n",
        "    ● - product_id, name, price, stock (number of items available)\n",
        "\n",
        "Methods:\n",
        "    ● - update_stock(quantity) : decreases/increases stock\n",
        "    ● - is_available(quantity): checks if requested quantity is in stock"
      ],
      "metadata": {
        "id": "e3cuuIxkj4er"
      }
    },
    {
      "cell_type": "code",
      "source": [
        "class Product:\n",
        "    def __init__(self, product_id, name, price, stock):\n",
        "        self.product_id = product_id\n",
        "        self.name = name\n",
        "        self.price = price\n",
        "        self.stock = stock # No. of items available\n",
        "\n",
        "    def __str__(self):\n",
        "        return f\"Product ID: {self.id}, Name: {self.name}, Price: {self.price}, Stock: {self.stock}\"\n",
        "\n",
        "    def update_stock(self, quantity):\n",
        "        \"\"\"\n",
        "        Updates the stock of the product.\n",
        "        Positive quantity increases stock, negative quantity decreases stock.\n",
        "        \"\"\"\n",
        "        self.stock += quantity\n",
        "        if self.stock < 0:\n",
        "            self.stock = 0\n",
        "        print(f\"{self.name}-->{self.stock} left,\")\n",
        "\n",
        "    def is_available(self, quantity):\n",
        "        \"\"\"\n",
        "        Checks if the requested quantity is available in stock.\n",
        "        Returns True if available, False otherwise.\n",
        "        \"\"\"\n",
        "        return self.stock >= quantity\n"
      ],
      "metadata": {
        "id": "mwGGtm5HRT9_"
      },
      "execution_count": 1,
      "outputs": []
    },
    {
      "cell_type": "markdown",
      "source": [
        "2. CartItem Class\n",
        "\n",
        "Represents a product inside the cart.\n",
        "\n",
        "Attributes:\n",
        "● - product (Product object), quantity (number of items added to cart)\n",
        "\n",
        "Methods:\n",
        "● - get_total_price() → returns price * quantity"
      ],
      "metadata": {
        "id": "AbU41oG4kPXd"
      }
    },
    {
      "cell_type": "code",
      "source": [
        "# Represents a product inside the cart.\n",
        "class CartItem:\n",
        "    def __init__(self, product, quantity):\n",
        "        self.product = product # product object\n",
        "        self.quantity = quantity # No. of items added to the Cart\n",
        "\n",
        "    def __str__(self):\n",
        "        return f\"Cart Item: {self.product.name}, Quantity: {self.quantity}, Total Price: {self.get_total_price()}\"\n",
        "\n",
        "    def get_total_price(self):\n",
        "        \"\"\"\n",
        "        Returns total price for this cart item (price * quantity).\n",
        "        \"\"\"\n",
        "        return self.product.price * self.quantity\n"
      ],
      "metadata": {
        "id": "SbwpxRPIRb0c"
      },
      "execution_count": 2,
      "outputs": []
    },
    {
      "cell_type": "markdown",
      "source": [
        "3. ShoppingCart Class\n",
        "\n",
        "Attributes:\n",
        "● - cart_items (list/dict of CartItem objects)\n",
        "\n",
        "Methods:\n",
        "● - add_product(product, quantity)\n",
        "● - remove_product(product_id)\n",
        "● - update_quantity(product_id, new_quantity)\n",
        "● - view_cart() → list all products with quantity and total price\n",
        "● - get_total_bill() → calculate total bill of the cart\n",
        "● - checkout() → Deduct stock from each product and empty the car"
      ],
      "metadata": {
        "id": "YaDirbOmkXs0"
      }
    },
    {
      "cell_type": "code",
      "source": [
        "class ShoppingCart:\n",
        "    def __init__(self):\n",
        "        self.cart_items = {}  # A dictionary {key: product_id, value: CartItem object}\n",
        "\n",
        "    def add_product(self, product, quantity):\n",
        "        \"\"\"\n",
        "        Adds product to the Cart.\n",
        "        \"\"\"\n",
        "        if quantity <= 0:  # Constrain 2: Negative quantity is not allowed.\n",
        "            print(\"Quantity must be positive.\")\n",
        "            return\n",
        "        if product.is_available(quantity):  # Constrain 1: A customer cannot add more quantity than available stock\n",
        "            if product.product_id in self.cart_items:  # Constrain 3: Cart should handle duplicate items gracefully (update instead of adding twice)\n",
        "                new_quantity = self.cart_items[product.product_id].quantity + quantity # Update existing item quantity\n",
        "                if product.is_available(new_quantity):\n",
        "                    self.cart_items[product.product_id].quantity = new_quantity\n",
        "                    print(f\"Updated {product.name} quantity to {new_quantity} in cart.\")\n",
        "                else:\n",
        "                    print(f\"Cannot add {quantity}. Only {product.stock} available in total.\")\n",
        "            else:\n",
        "                self.cart_items[product.product_id] = CartItem(product, quantity)\n",
        "                print(f\"{quantity} of {product.name} added to cart.\")\n",
        "        else:\n",
        "            print(f\"Sorry, only {product.stock} of {product.name} available.\")\n",
        "\n",
        "\n",
        "    def remove_product(self, product_id):\n",
        "        \"\"\"\n",
        "        Removes product from the Cart.\n",
        "        \"\"\"\n",
        "        if product_id in self.cart_items:\n",
        "            removed_product = self.cart_items.pop(product_id)\n",
        "            print(f\"{removed_product.product.name} removed from cart.\")\n",
        "        else:\n",
        "            print(\"Product not found in cart.\")\n",
        "\n",
        "    def update_quantity(self, product_id, new_quantity):\n",
        "        \"\"\"\n",
        "        Updates the quantity of already added product in the Cart.\n",
        "        \"\"\"\n",
        "        if new_quantity <= 0:\n",
        "            print(\"Quantity must be positive.\")\n",
        "            return\n",
        "        if product_id in self.cart_items:\n",
        "            product = self.cart_items[product_id].product\n",
        "            if product.is_available(new_quantity):\n",
        "                self.cart_items[product_id].quantity = new_quantity\n",
        "                print(f\"Quantity updated to {new_quantity} for {product.name}.\")\n",
        "            else:\n",
        "                print(f\"Cannot update. Only {product.stock} available.\")\n",
        "        else:\n",
        "            print(\"Product not found in cart.\")\n",
        "\n",
        "\n",
        "    def view_cart(self):\n",
        "        \"\"\"\n",
        "        list all products with quantity and total price in the cart.\n",
        "        \"\"\"\n",
        "        if not self.cart_items:\n",
        "            print(\"Your cart is empty.\")\n",
        "            return\n",
        "        #print(\"Cart Contents:\")\n",
        "        for item in self.cart_items.values():\n",
        "            print(f\"{item.product.name} X {item.quantity} = ₹{item.get_total_price():.2f}\")\n",
        "        self.get_total_bill()\n",
        "\n",
        "    def get_total_bill(self):\n",
        "        \"\"\"\n",
        "        Returns and calculate the total bill amount of the cart.\n",
        "        \"\"\"\n",
        "        print(\"------------------------------------------\")\n",
        "        total = sum(item.get_total_price() for item in self.cart_items.values())\n",
        "        print(f\"Total Bill Amount: ₹{total:.2f}\")\n",
        "        return total\n",
        "\n",
        "    def checkout(self):\n",
        "        \"\"\"\n",
        "        Deduct stock from each product and empty the cart.\n",
        "        \"\"\"\n",
        "        if not self.cart_items:\n",
        "            print(\"Cart is empty. Nothing to checkout.\")\n",
        "            return\n",
        "        print(\"Stock updated:\")\n",
        "        for item in self.cart_items.values():\n",
        "            item.product.update_stock(-item.quantity)\n",
        "        #total_bill = self.get_total_bill()\n",
        "        self.cart_items.clear()  # Constrain 4: Once checkout is done, the cart should be cleared.\n",
        "        print(f\"Checkout successful!\")\n",
        "\n"
      ],
      "metadata": {
        "id": "aZ91ZSrPR351"
      },
      "execution_count": 3,
      "outputs": []
    },
    {
      "cell_type": "markdown",
      "source": [
        "4. Customer Class\n",
        "\n",
        "\n",
        "Attributes:\n",
        "● - customer_id, name, email, cart (ShoppingCart object)\n",
        "\n",
        "Methods:\n",
        "● - add_to_cart(product, quantity)\n",
        "● - remove_from_cart(product_id)\n",
        "● - checkout_cart()"
      ],
      "metadata": {
        "id": "mVgjQ1kdkcOt"
      }
    },
    {
      "cell_type": "code",
      "source": [
        "class Customer:\n",
        "    def __init__(self, customer_id, name, email):\n",
        "        self.customer_id = customer_id\n",
        "        self.name = name\n",
        "        self.email = email\n",
        "        self.cart = ShoppingCart() # Shopping Cart Object\n",
        "\n",
        "    def __str__(self):\n",
        "        return f\"Customer ID: {self.customer_id}, Name: {self.name}, Email: {self.email}\"\n",
        "\n",
        "    def add_to_cart(self, product, quantity):\n",
        "        \"\"\"\n",
        "        Adds product to the Cart.\n",
        "        \"\"\"\n",
        "        self.cart.add_product(product, quantity)\n",
        "\n",
        "    def remove_from_cart(self, product_id):\n",
        "        \"\"\"\n",
        "        Removes product from the Cart.\n",
        "        \"\"\"\n",
        "        self.cart.remove_product(product_id)\n",
        "\n",
        "    def checkout_cart(self):\n",
        "        \"\"\"\n",
        "        Deduct stock from each product and empty the cart.\n",
        "        \"\"\"\n",
        "        self.cart.checkout()"
      ],
      "metadata": {
        "id": "SCUDgbz9R9r9"
      },
      "execution_count": 4,
      "outputs": []
    },
    {
      "cell_type": "code",
      "source": [
        "# To browse all Products\n",
        "class ProductCatalog:\n",
        "    def __init__(self):\n",
        "        self.products = {}  # key: product_id, value: Product object\n",
        "\n",
        "    def add_product(self, product):\n",
        "        \"\"\"\n",
        "        Adds a product to the catalog.\n",
        "        \"\"\"\n",
        "        self.products[product.product_id] = product\n",
        "\n",
        "    def view_products(self):\n",
        "        \"\"\"\n",
        "        Lists all products in the catalog.\n",
        "        \"\"\"\n",
        "        print(\"Products Available:\")\n",
        "        for product in self.products.values():\n",
        "            print(f\"{product.product_id}: {product.name} ( ₹{product.price}, Stock: {product.stock})\")\n",
        "\n",
        "    def get_product(self, product_name):\n",
        "        \"\"\"\n",
        "        Prints the first product details matching the given name (case-insensitive).\n",
        "        \"\"\"\n",
        "        name = product_name.lower()\n",
        "        for product in self.products.values():\n",
        "            if product.name.lower() == name:\n",
        "                print(f\"{product.product_id}: {product.name} (₹{product.price}, Stock: {product.stock})\")\n",
        "                return\n",
        "        print(\"Product not found.\")\n"
      ],
      "metadata": {
        "id": "ZK60LpfyY8pG"
      },
      "execution_count": 5,
      "outputs": []
    },
    {
      "cell_type": "markdown",
      "source": [
        "# Example"
      ],
      "metadata": {
        "id": "z6HpEM4qhi1E"
      }
    },
    {
      "cell_type": "code",
      "source": [
        "mouse = Product(\"P101\", \"Wireless Mouse\", 599, 10)"
      ],
      "metadata": {
        "id": "IKjwvg2KSKIM"
      },
      "execution_count": 6,
      "outputs": []
    },
    {
      "cell_type": "code",
      "source": [
        "keyboard = Product(\"P102\", \"Keyboard\", 999, 5)"
      ],
      "metadata": {
        "id": "U8V55ydOSmVM"
      },
      "execution_count": 7,
      "outputs": []
    },
    {
      "cell_type": "code",
      "source": [
        "catalog = ProductCatalog()\n",
        "catalog.add_product(mouse)\n",
        "catalog.add_product(keyboard)"
      ],
      "metadata": {
        "id": "znsavXQOZKNV"
      },
      "execution_count": 8,
      "outputs": []
    },
    {
      "cell_type": "code",
      "source": [
        "catalog.get_product(\"Keyboard\")"
      ],
      "metadata": {
        "colab": {
          "base_uri": "https://localhost:8080/"
        },
        "id": "GFwJKB7khmwM",
        "outputId": "7c7f664e-1205-44d6-abec-c8aa6d074a89"
      },
      "execution_count": 9,
      "outputs": [
        {
          "output_type": "stream",
          "name": "stdout",
          "text": [
            "P102: Keyboard (₹999, Stock: 5)\n"
          ]
        }
      ]
    },
    {
      "cell_type": "markdown",
      "source": [
        "1. Customer Alice browses the catalog."
      ],
      "metadata": {
        "id": "UsheGhO8kqGc"
      }
    },
    {
      "cell_type": "code",
      "source": [
        "alice = Customer(\"C1\", \"Alice\", \"alice@gmail.com\")"
      ],
      "metadata": {
        "id": "oESw4K5CStvI"
      },
      "execution_count": 10,
      "outputs": []
    },
    {
      "cell_type": "code",
      "source": [
        "catalog.view_products()"
      ],
      "metadata": {
        "colab": {
          "base_uri": "https://localhost:8080/"
        },
        "id": "ATyZsmH0djDE",
        "outputId": "33881833-5fa1-49fb-a3af-f8764f0be306"
      },
      "execution_count": 11,
      "outputs": [
        {
          "output_type": "stream",
          "name": "stdout",
          "text": [
            "Products Available:\n",
            "P101: Wireless Mouse ( ₹599, Stock: 10)\n",
            "P102: Keyboard ( ₹999, Stock: 5)\n"
          ]
        }
      ]
    },
    {
      "cell_type": "markdown",
      "source": [
        "2. Alice adds 2 Wireless Mice and 1 Keyboard to her cart."
      ],
      "metadata": {
        "id": "Nv-GMb5GktSU"
      }
    },
    {
      "cell_type": "code",
      "source": [
        "alice.add_to_cart(mouse, 15 )  # 1. A customer cannot add more quantity than available stock"
      ],
      "metadata": {
        "colab": {
          "base_uri": "https://localhost:8080/"
        },
        "id": "iGy5sJfjrvaD",
        "outputId": "c5cb5380-8e0c-4804-b3fc-b581827ce0da"
      },
      "execution_count": 12,
      "outputs": [
        {
          "output_type": "stream",
          "name": "stdout",
          "text": [
            "Sorry, only 10 of Wireless Mouse available.\n"
          ]
        }
      ]
    },
    {
      "cell_type": "code",
      "source": [
        "alice.add_to_cart(mouse, -2 ) # 2.Negative quantity is not allowed."
      ],
      "metadata": {
        "colab": {
          "base_uri": "https://localhost:8080/"
        },
        "id": "Fi_b07IBsDa7",
        "outputId": "4114a130-35d8-4f3a-c2f1-72d896049282"
      },
      "execution_count": 13,
      "outputs": [
        {
          "output_type": "stream",
          "name": "stdout",
          "text": [
            "Quantity must be positive.\n"
          ]
        }
      ]
    },
    {
      "cell_type": "code",
      "source": [
        "alice.add_to_cart(mouse, 2)"
      ],
      "metadata": {
        "colab": {
          "base_uri": "https://localhost:8080/"
        },
        "id": "RqnKgR73S2-F",
        "outputId": "d5e315ea-56c9-49aa-ad9f-3c56fe86b4fc"
      },
      "execution_count": 14,
      "outputs": [
        {
          "output_type": "stream",
          "name": "stdout",
          "text": [
            "2 of Wireless Mouse added to cart.\n"
          ]
        }
      ]
    },
    {
      "cell_type": "code",
      "source": [
        "alice.add_to_cart(keyboard, 1)"
      ],
      "metadata": {
        "colab": {
          "base_uri": "https://localhost:8080/"
        },
        "id": "UTZW7PkRTBkb",
        "outputId": "b35ed738-5508-4490-f32c-b6fc6f458eda"
      },
      "execution_count": 15,
      "outputs": [
        {
          "output_type": "stream",
          "name": "stdout",
          "text": [
            "1 of Keyboard added to cart.\n"
          ]
        }
      ]
    },
    {
      "cell_type": "markdown",
      "source": [
        "3. Alice views cart"
      ],
      "metadata": {
        "id": "fVrtvBf6k0Zz"
      }
    },
    {
      "cell_type": "code",
      "source": [
        "alice.cart.view_cart()"
      ],
      "metadata": {
        "colab": {
          "base_uri": "https://localhost:8080/"
        },
        "id": "Dlkll6JjTGke",
        "outputId": "6793cc73-7a9c-44ef-adeb-c6baab234c60"
      },
      "execution_count": 16,
      "outputs": [
        {
          "output_type": "stream",
          "name": "stdout",
          "text": [
            "Wireless Mouse X 2 = ₹1198.00\n",
            "Keyboard X 1 = ₹999.00\n",
            "------------------------------------------\n",
            "Total Bill Amount: ₹2197.00\n"
          ]
        }
      ]
    },
    {
      "cell_type": "markdown",
      "source": [
        "4. Alice checks out."
      ],
      "metadata": {
        "id": "-qb9onxek7mj"
      }
    },
    {
      "cell_type": "code",
      "source": [
        "alice.checkout_cart()"
      ],
      "metadata": {
        "colab": {
          "base_uri": "https://localhost:8080/"
        },
        "id": "npxKAP9CTW6w",
        "outputId": "8830915d-5b3f-475c-b213-32e775503973"
      },
      "execution_count": 17,
      "outputs": [
        {
          "output_type": "stream",
          "name": "stdout",
          "text": [
            "Stock updated:\n",
            "Wireless Mouse-->8 left,\n",
            "Keyboard-->4 left,\n",
            "Checkout successful!\n"
          ]
        }
      ]
    },
    {
      "cell_type": "code",
      "source": [
        "alice.checkout_cart() # 4. Once checkout is done, the cart should be cleared."
      ],
      "metadata": {
        "colab": {
          "base_uri": "https://localhost:8080/"
        },
        "id": "Ovq8tt10Ua7i",
        "outputId": "a7c1683c-e4e6-42bf-e06a-6e49a9ae0283"
      },
      "execution_count": 18,
      "outputs": [
        {
          "output_type": "stream",
          "name": "stdout",
          "text": [
            "Cart is empty. Nothing to checkout.\n"
          ]
        }
      ]
    },
    {
      "cell_type": "code",
      "source": [
        "catalog.view_products()"
      ],
      "metadata": {
        "colab": {
          "base_uri": "https://localhost:8080/"
        },
        "id": "e_AX0cN2qM0w",
        "outputId": "f0d67ec5-cfdc-481d-cc98-c9ac66fbfd9b"
      },
      "execution_count": 19,
      "outputs": [
        {
          "output_type": "stream",
          "name": "stdout",
          "text": [
            "Products Available:\n",
            "P101: Wireless Mouse ( ₹599, Stock: 8)\n",
            "P102: Keyboard ( ₹999, Stock: 4)\n"
          ]
        }
      ]
    },
    {
      "cell_type": "code",
      "source": [
        "alice.add_to_cart(mouse, 2)"
      ],
      "metadata": {
        "colab": {
          "base_uri": "https://localhost:8080/"
        },
        "id": "p5HMVqMqqtKS",
        "outputId": "924de93c-6350-4b5e-9b87-1c2e904eb7d3"
      },
      "execution_count": 20,
      "outputs": [
        {
          "output_type": "stream",
          "name": "stdout",
          "text": [
            "2 of Wireless Mouse added to cart.\n"
          ]
        }
      ]
    },
    {
      "cell_type": "code",
      "source": [
        "alice.add_to_cart(mouse, 2) # 3. Cart should handle duplicate items gracefully (update instead of adding twice)"
      ],
      "metadata": {
        "colab": {
          "base_uri": "https://localhost:8080/"
        },
        "id": "zsJlTIAtsRcb",
        "outputId": "6ecd9a7a-3468-44ea-9288-b6af57959ff0"
      },
      "execution_count": 21,
      "outputs": [
        {
          "output_type": "stream",
          "name": "stdout",
          "text": [
            "Updated Wireless Mouse quantity to 4 in cart.\n"
          ]
        }
      ]
    },
    {
      "cell_type": "code",
      "source": [],
      "metadata": {
        "id": "WVe0Ey_hsTsR"
      },
      "execution_count": 21,
      "outputs": []
    }
  ]
}